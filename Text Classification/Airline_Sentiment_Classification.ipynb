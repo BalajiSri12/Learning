{
 "cells": [
  {
   "cell_type": "code",
   "execution_count": 1,
   "metadata": {},
   "outputs": [],
   "source": [
    "import itertools\n",
    "import pandas as pd\n",
    "import numpy as np\n",
    "import string\n",
    "from sklearn import preprocessing\n",
    "from sklearn.model_selection import train_test_split\n",
    "from sklearn.feature_extraction.text import TfidfVectorizer\n",
    "from skmultilearn.problem_transform import ClassifierChain\n",
    "from sklearn.multiclass import OneVsRestClassifier\n",
    "from sklearn.svm import LinearSVC\n",
    "import matplotlib.pyplot as plt\n",
    "from sklearn.metrics import accuracy_score, precision_score, recall_score,f1_score, confusion_matrix"
   ]
  },
  {
   "cell_type": "code",
   "execution_count": 2,
   "metadata": {},
   "outputs": [
    {
     "name": "stdout",
     "output_type": "stream",
     "text": [
      "Index(['airline_sentiment', 'negativereason', 'text'], dtype='object')\n",
      "  airline_sentiment negativereason  \\\n",
      "0           neutral             NA   \n",
      "1          positive             NA   \n",
      "2           neutral             NA   \n",
      "3          negative     Bad Flight   \n",
      "4          negative     Can't Tell   \n",
      "\n",
      "                                                text  \n",
      "0                @VirginAmerica What @dhepburn said.  \n",
      "1  @VirginAmerica plus you've added commercials t...  \n",
      "2  @VirginAmerica I didn't today... Must mean I n...  \n",
      "3  @VirginAmerica it's really aggressive to blast...  \n",
      "4  @VirginAmerica and it's a really big bad thing...  \n"
     ]
    }
   ],
   "source": [
    "df = pd.read_csv(r'D:\\Dataset\\twitter-airline-sentiment\\Tweets.csv', 'Tweets', delimiter=',')\n",
    "df = df.fillna('NA')\n",
    "df = df[['airline_sentiment','negativereason', 'text']]\n",
    "print(df.columns)\n",
    "print(df.head())"
   ]
  },
  {
   "cell_type": "code",
   "execution_count": 3,
   "metadata": {},
   "outputs": [],
   "source": [
    "def cleanText(text):\n",
    "    text = \" \".join(filter(lambda x:x[0]!='@', text.split()))\n",
    "    \n",
    "    punctuations = '''!()-[]{};:'\"\\,<>./?@#$%^&*_~'''\n",
    "    no_punct = \"\"\n",
    "    for char in text:\n",
    "        if char not in punctuations:\n",
    "            no_punct = no_punct + char\n",
    "    return no_punct\n",
    "\n",
    "df['text'] = df['text'].map(lambda x: cleanText(x))"
   ]
  },
  {
   "cell_type": "code",
   "execution_count": 4,
   "metadata": {},
   "outputs": [
    {
     "data": {
      "text/plain": [
       "0                                            What said\n",
       "1    plus youve added commercials to the experience...\n",
       "2    I didnt today Must mean I need to take another...\n",
       "3    its really aggressive to blast obnoxious enter...\n",
       "4              and its a really big bad thing about it\n",
       "Name: text, dtype: object"
      ]
     },
     "execution_count": 4,
     "metadata": {},
     "output_type": "execute_result"
    }
   ],
   "source": [
    "df['text'].head()"
   ]
  },
  {
   "cell_type": "code",
   "execution_count": 5,
   "metadata": {},
   "outputs": [],
   "source": [
    "sentiment_LE = preprocessing.LabelEncoder()\n",
    "df['airline_sentiment'] = sentiment_LE.fit_transform(df['airline_sentiment'])\n",
    "\n",
    "negativereason_LE = preprocessing.LabelEncoder()\n",
    "df['negativereason'] = negativereason_LE.fit_transform(df['negativereason'])"
   ]
  },
  {
   "cell_type": "code",
   "execution_count": 6,
   "metadata": {},
   "outputs": [
    {
     "data": {
      "text/plain": [
       "TfidfVectorizer(analyzer='word', binary=False, decode_error='strict',\n",
       "        dtype=<class 'numpy.int64'>, encoding='utf-8', input='content',\n",
       "        lowercase=True, max_df=1.0, max_features=25000, min_df=1,\n",
       "        ngram_range=(1, 5), norm='l2', preprocessor=None, smooth_idf=True,\n",
       "        stop_words=None, strip_accents='unicode', sublinear_tf=False,\n",
       "        token_pattern='(?u)\\\\b\\\\w\\\\w+\\\\b', tokenizer=None, use_idf=True,\n",
       "        vocabulary=None)"
      ]
     },
     "execution_count": 6,
     "metadata": {},
     "output_type": "execute_result"
    }
   ],
   "source": [
    "vectorizer = TfidfVectorizer(strip_accents='unicode', max_features=25000,  analyzer='word', ngram_range=(1,5), norm='l2')\n",
    "vectorizer.fit(df['text'])"
   ]
  },
  {
   "cell_type": "code",
   "execution_count": 7,
   "metadata": {},
   "outputs": [],
   "source": [
    "X = df['text']\n",
    "y = df[['airline_sentiment', 'negativereason']]\n",
    "X_train, X_test, y_train, y_test = train_test_split(\n",
    "    X, y, test_size=0.20, random_state=42)"
   ]
  },
  {
   "cell_type": "code",
   "execution_count": 8,
   "metadata": {},
   "outputs": [],
   "source": [
    "X_train_vec = vectorizer.transform(X_train)\n",
    "X_test_vec = vectorizer.transform(X_test)"
   ]
  },
  {
   "cell_type": "code",
   "execution_count": 9,
   "metadata": {},
   "outputs": [
    {
     "data": {
      "text/plain": [
       "ClassifierChain(classifier=OneVsRestClassifier(estimator=LinearSVC(C=1.0, class_weight='balanced', dual=True, fit_intercept=True,\n",
       "     intercept_scaling=1, loss='squared_hinge', max_iter=2000,\n",
       "     multi_class='ovr', penalty='l2', random_state=None, tol=0.0001,\n",
       "     verbose=0),\n",
       "          n_jobs=1),\n",
       "        order=None, require_dense=[True, True])"
      ]
     },
     "execution_count": 9,
     "metadata": {},
     "output_type": "execute_result"
    }
   ],
   "source": [
    "classifier = ClassifierChain(OneVsRestClassifier(LinearSVC(class_weight=\"balanced\", max_iter=2000)))\n",
    "classifier.fit(X_train_vec, y_train)"
   ]
  },
  {
   "cell_type": "code",
   "execution_count": 10,
   "metadata": {},
   "outputs": [],
   "source": [
    "y_pred = classifier.predict(X_test_vec)\n",
    "predicted_df = pd.DataFrame(y_pred.toarray(), columns = ['airline_sentiment', 'negativereason'])"
   ]
  },
  {
   "cell_type": "code",
   "execution_count": 11,
   "metadata": {},
   "outputs": [
    {
     "name": "stdout",
     "output_type": "stream",
     "text": [
      "Accuracy of airline_sentiment - 0.7950819672131147\n",
      "Accuracy of negativereason - 0.6154371584699454\n"
     ]
    }
   ],
   "source": [
    "print(\"Accuracy of airline_sentiment - \"+str(accuracy_score(y_test['airline_sentiment'], predicted_df['airline_sentiment'])))\n",
    "print(\"Accuracy of negativereason - \"+str(accuracy_score(y_test['negativereason'], predicted_df['negativereason'])))"
   ]
  }
 ],
 "metadata": {
  "kernelspec": {
   "display_name": "Python 3",
   "language": "python",
   "name": "python3"
  },
  "language_info": {
   "codemirror_mode": {
    "name": "ipython",
    "version": 3
   },
   "file_extension": ".py",
   "mimetype": "text/x-python",
   "name": "python",
   "nbconvert_exporter": "python",
   "pygments_lexer": "ipython3",
   "version": "3.6.5"
  }
 },
 "nbformat": 4,
 "nbformat_minor": 2
}
