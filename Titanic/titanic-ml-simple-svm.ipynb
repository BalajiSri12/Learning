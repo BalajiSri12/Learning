{
 "cells": [
  {
   "cell_type": "code",
   "execution_count": 1,
   "metadata": {
    "_cell_guid": "79c7e3d0-c299-4dcb-8224-4455121ee9b0",
    "_uuid": "d629ff2d2480ee46fbb7e2d37f6b5fab8052498a"
   },
   "outputs": [],
   "source": [
    "import itertools\n",
    "import pandas as pd\n",
    "import numpy as np\n",
    "import string\n",
    "from sklearn import preprocessing\n",
    "from sklearn.model_selection import train_test_split\n",
    "from sklearn.feature_extraction.text import TfidfVectorizer\n",
    "from sklearn.preprocessing import Imputer\n",
    "import matplotlib.pyplot as plt\n",
    "from sklearn.metrics import accuracy_score, precision_score, recall_score,f1_score, confusion_matrix"
   ]
  },
  {
   "cell_type": "code",
   "execution_count": 2,
   "metadata": {
    "_uuid": "3b94cdf05176cf75012b679f71c176cc8ca6d025"
   },
   "outputs": [
    {
     "data": {
      "text/html": [
       "<div>\n",
       "<style scoped>\n",
       "    .dataframe tbody tr th:only-of-type {\n",
       "        vertical-align: middle;\n",
       "    }\n",
       "\n",
       "    .dataframe tbody tr th {\n",
       "        vertical-align: top;\n",
       "    }\n",
       "\n",
       "    .dataframe thead th {\n",
       "        text-align: right;\n",
       "    }\n",
       "</style>\n",
       "<table border=\"1\" class=\"dataframe\">\n",
       "  <thead>\n",
       "    <tr style=\"text-align: right;\">\n",
       "      <th></th>\n",
       "      <th>PassengerId</th>\n",
       "      <th>Pclass</th>\n",
       "      <th>Sex</th>\n",
       "      <th>Age</th>\n",
       "      <th>Embarked</th>\n",
       "      <th>Survived</th>\n",
       "    </tr>\n",
       "  </thead>\n",
       "  <tbody>\n",
       "    <tr>\n",
       "      <th>0</th>\n",
       "      <td>1</td>\n",
       "      <td>3</td>\n",
       "      <td>male</td>\n",
       "      <td>22.0</td>\n",
       "      <td>S</td>\n",
       "      <td>0</td>\n",
       "    </tr>\n",
       "    <tr>\n",
       "      <th>1</th>\n",
       "      <td>2</td>\n",
       "      <td>1</td>\n",
       "      <td>female</td>\n",
       "      <td>38.0</td>\n",
       "      <td>C</td>\n",
       "      <td>1</td>\n",
       "    </tr>\n",
       "    <tr>\n",
       "      <th>2</th>\n",
       "      <td>3</td>\n",
       "      <td>3</td>\n",
       "      <td>female</td>\n",
       "      <td>26.0</td>\n",
       "      <td>S</td>\n",
       "      <td>1</td>\n",
       "    </tr>\n",
       "    <tr>\n",
       "      <th>3</th>\n",
       "      <td>4</td>\n",
       "      <td>1</td>\n",
       "      <td>female</td>\n",
       "      <td>35.0</td>\n",
       "      <td>S</td>\n",
       "      <td>1</td>\n",
       "    </tr>\n",
       "    <tr>\n",
       "      <th>4</th>\n",
       "      <td>5</td>\n",
       "      <td>3</td>\n",
       "      <td>male</td>\n",
       "      <td>35.0</td>\n",
       "      <td>S</td>\n",
       "      <td>0</td>\n",
       "    </tr>\n",
       "  </tbody>\n",
       "</table>\n",
       "</div>"
      ],
      "text/plain": [
       "   PassengerId  Pclass     Sex   Age Embarked  Survived\n",
       "0            1       3    male  22.0        S         0\n",
       "1            2       1  female  38.0        C         1\n",
       "2            3       3  female  26.0        S         1\n",
       "3            4       1  female  35.0        S         1\n",
       "4            5       3    male  35.0        S         0"
      ]
     },
     "execution_count": 2,
     "metadata": {},
     "output_type": "execute_result"
    }
   ],
   "source": [
    "df = pd.read_csv(r'train.csv', 'train', delimiter=',')\n",
    "df = df[['PassengerId', 'Pclass', 'Sex', 'Age',  'Embarked', 'Survived']] #'SibSp', 'Parch',\n",
    "df.head()"
   ]
  },
  {
   "cell_type": "code",
   "execution_count": 3,
   "metadata": {
    "_uuid": "752f0f8f70de389c92b0e1c26f44be3ded6c0e65"
   },
   "outputs": [],
   "source": [
    "Embarked_LE = preprocessing.LabelEncoder()\n",
    "df['Embarked'] = df['Embarked'].astype(str)\n",
    "df['Embarked'] = Embarked_LE.fit_transform(df['Embarked'])\n",
    "\n",
    "\n",
    "Sex_LE = preprocessing.LabelEncoder()\n",
    "df['Sex'] = df['Sex'].astype(str)\n",
    "df['Sex'] = Sex_LE.fit_transform(df['Sex'])"
   ]
  },
  {
   "cell_type": "code",
   "execution_count": 4,
   "metadata": {
    "_uuid": "c6177837fbd8bd64fbf9305765cf9a24545e97bc"
   },
   "outputs": [],
   "source": [
    "X = df[['PassengerId', 'Pclass', 'Sex', 'Age', 'Embarked']] #'SibSp', 'Parch',\n",
    "y = df[['Survived']]"
   ]
  },
  {
   "cell_type": "code",
   "execution_count": 21,
   "metadata": {},
   "outputs": [],
   "source": [
    "onehotencoder = preprocessing.OneHotEncoder(categorical_features = [1])\n",
    "X = onehotencoder.fit_transform(X).toarray()"
   ]
  },
  {
   "cell_type": "code",
   "execution_count": 25,
   "metadata": {},
   "outputs": [
    {
     "name": "stdout",
     "output_type": "stream",
     "text": [
      "[ 0.  0.  1.  1.  1. 22.  2.]\n"
     ]
    }
   ],
   "source": [
    "print(X[0])"
   ]
  },
  {
   "cell_type": "code",
   "execution_count": 5,
   "metadata": {
    "_uuid": "4598714a5e31d4f4c2a836b88ea14534eb3437bf"
   },
   "outputs": [],
   "source": [
    "imputer = Imputer(missing_values = 'NaN', strategy = 'mean', axis = 0)\n",
    "X = imputer.fit_transform(X)\n",
    "#X.head()"
   ]
  },
  {
   "cell_type": "code",
   "execution_count": 6,
   "metadata": {
    "_uuid": "20379a3adf5a594b60faad492bf607a59c9fcd4d"
   },
   "outputs": [
    {
     "name": "stdout",
     "output_type": "stream",
     "text": [
      "[[332.    1.    1.   45.5   2. ]\n",
      " [734.    2.    1.   23.    2. ]\n",
      " [383.    3.    1.   32.    2. ]\n",
      " ...\n",
      " [861.    3.    1.   41.    2. ]\n",
      " [436.    1.    0.   14.    2. ]\n",
      " [103.    1.    1.   21.    2. ]]\n"
     ]
    }
   ],
   "source": [
    "X_train, X_test, y_train, y_test = train_test_split(X, y, test_size = 0.2, random_state = 42)\n",
    "print(X_train)"
   ]
  },
  {
   "cell_type": "code",
   "execution_count": 7,
   "metadata": {
    "_uuid": "37e117b1d8b1b94f6afed5bc22a82404f87f35c7"
   },
   "outputs": [
    {
     "name": "stderr",
     "output_type": "stream",
     "text": [
      "C:\\Users\\Sribalaji\\Anaconda3\\lib\\site-packages\\sklearn\\utils\\validation.py:578: DataConversionWarning: A column-vector y was passed when a 1d array was expected. Please change the shape of y to (n_samples, ), for example using ravel().\n",
      "  y = column_or_1d(y, warn=True)\n"
     ]
    },
    {
     "data": {
      "text/plain": [
       "SVC(C=1.0, cache_size=200, class_weight=None, coef0=0.0,\n",
       "  decision_function_shape='ovr', degree=3, gamma='auto', kernel='linear',\n",
       "  max_iter=-1, probability=False, random_state=0, shrinking=True,\n",
       "  tol=0.001, verbose=False)"
      ]
     },
     "execution_count": 7,
     "metadata": {},
     "output_type": "execute_result"
    }
   ],
   "source": [
    "from sklearn.svm import SVC\n",
    "model_SVM = SVC(kernel = 'linear', random_state = 0)\n",
    "model_SVM.fit(X, y)"
   ]
  },
  {
   "cell_type": "code",
   "execution_count": 8,
   "metadata": {
    "_uuid": "e3e9da1703b31f797646d409f5554392d39f9255"
   },
   "outputs": [],
   "source": [
    "y_pred = model_SVM.predict(X_test)"
   ]
  },
  {
   "cell_type": "code",
   "execution_count": 9,
   "metadata": {
    "_uuid": "cd7acf373fe2c2384d79fe178a953ae55d6d60be"
   },
   "outputs": [
    {
     "name": "stdout",
     "output_type": "stream",
     "text": [
      "Training Set Score\n",
      "Accuracy - 0.7821229050279329\n",
      "Precision Score - 0.7536231884057971\n",
      "f1 Score - 0.7272727272727273\n",
      "Recall Score - 0.7027027027027027\n"
     ]
    }
   ],
   "source": [
    "def ModelScore(y_test, y_pred):\n",
    "    print(\"Training Set Score\")\n",
    "    print(\"Accuracy - \"+str(accuracy_score(y_test, y_pred)))\n",
    "    print(\"Precision Score - \"+str(precision_score(y_test, y_pred)))\n",
    "    print(\"f1 Score - \"+str(f1_score(y_test, y_pred)))\n",
    "    print(\"Recall Score - \"+str(recall_score(y_test, y_pred)))\n",
    "          \n",
    "ModelScore(y_test, y_pred)"
   ]
  },
  {
   "cell_type": "code",
   "execution_count": 10,
   "metadata": {
    "_uuid": "22d5ecf5bd41158add21c44dfbfc26a1a854ae65"
   },
   "outputs": [],
   "source": [
    "test_df = pd.read_csv(\"test.csv\")"
   ]
  },
  {
   "cell_type": "code",
   "execution_count": 11,
   "metadata": {
    "_uuid": "7605892b7f2f3193b853585f857d506b9ba662ef"
   },
   "outputs": [],
   "source": [
    "test_df['Embarked'] = test_df['Embarked'].astype(str)\n",
    "test_df['Embarked'] = Embarked_LE.fit_transform(test_df['Embarked'])\n",
    "\n",
    "test_df['Sex'] = test_df['Sex'].astype(str)\n",
    "test_df['Sex'] = Sex_LE.fit_transform(test_df['Sex'])"
   ]
  },
  {
   "cell_type": "code",
   "execution_count": 12,
   "metadata": {
    "_uuid": "2d8d0ff29979f5afc2f5f646852810359ed28a10"
   },
   "outputs": [],
   "source": [
    "sub_X = test_df[['PassengerId', 'Pclass', 'Sex', 'Age',  'Embarked']] #'SibSp', 'Parch',"
   ]
  },
  {
   "cell_type": "code",
   "execution_count": 13,
   "metadata": {
    "_uuid": "00c662b1f1ccf6e6b9641ddff04b6d1cd356d133"
   },
   "outputs": [],
   "source": [
    "sub_X = imputer.transform(sub_X)"
   ]
  },
  {
   "cell_type": "code",
   "execution_count": 14,
   "metadata": {
    "_uuid": "f73f6aa7f965f8e32ef4269d8a13013771847b18"
   },
   "outputs": [],
   "source": [
    "sub_y = model_SVM.predict(sub_X)"
   ]
  },
  {
   "cell_type": "code",
   "execution_count": 15,
   "metadata": {
    "_uuid": "7c4eb4797ae699932ebb00d3da6b295b65279d34"
   },
   "outputs": [],
   "source": [
    "output = pd.DataFrame({'PassengerId':test_df['PassengerId'],\n",
    "                            'Survived':sub_y})\n",
    "output.to_csv('submission_v2.csv',index=False)"
   ]
  },
  {
   "cell_type": "code",
   "execution_count": 26,
   "metadata": {},
   "outputs": [
    {
     "name": "stderr",
     "output_type": "stream",
     "text": [
      "C:\\Users\\Sribalaji\\Anaconda3\\lib\\site-packages\\ipykernel_launcher.py:9: UserWarning: Update your `Dense` call to the Keras 2 API: `Dense(activation=\"tanh\", input_dim=7, units=4, kernel_initializer=\"uniform\")`\n",
      "  if __name__ == '__main__':\n",
      "C:\\Users\\Sribalaji\\Anaconda3\\lib\\site-packages\\ipykernel_launcher.py:12: UserWarning: Update your `Dense` call to the Keras 2 API: `Dense(activation=\"tanh\", units=4, kernel_initializer=\"uniform\")`\n",
      "  if sys.path[0] == '':\n",
      "C:\\Users\\Sribalaji\\Anaconda3\\lib\\site-packages\\ipykernel_launcher.py:15: UserWarning: Update your `Dense` call to the Keras 2 API: `Dense(activation=\"sigmoid\", units=1, kernel_initializer=\"uniform\")`\n",
      "  from ipykernel import kernelapp as app\n",
      "C:\\Users\\Sribalaji\\Anaconda3\\lib\\site-packages\\ipykernel_launcher.py:21: UserWarning: The `nb_epoch` argument in `fit` has been renamed `epochs`.\n"
     ]
    },
    {
     "name": "stdout",
     "output_type": "stream",
     "text": [
      "Epoch 1/100\n",
      "891/891 [==============================] - 1s 854us/step - loss: 0.6887 - acc: 0.6083\n",
      "Epoch 2/100\n",
      "891/891 [==============================] - 0s 191us/step - loss: 0.6767 - acc: 0.6162\n",
      "Epoch 3/100\n",
      "891/891 [==============================] - 0s 232us/step - loss: 0.6689 - acc: 0.6162\n",
      "Epoch 4/100\n",
      "891/891 [==============================] - 0s 185us/step - loss: 0.6665 - acc: 0.6162\n",
      "Epoch 5/100\n",
      "891/891 [==============================] - 0s 176us/step - loss: 0.6658 - acc: 0.6162\n",
      "Epoch 6/100\n",
      "891/891 [==============================] - 0s 160us/step - loss: 0.6654 - acc: 0.6184\n",
      "Epoch 7/100\n",
      "891/891 [==============================] - 0s 205us/step - loss: 0.6650 - acc: 0.6173\n",
      "Epoch 8/100\n",
      "891/891 [==============================] - 0s 181us/step - loss: 0.6651 - acc: 0.6162\n",
      "Epoch 9/100\n",
      "891/891 [==============================] - 0s 161us/step - loss: 0.6672 - acc: 0.6184\n",
      "Epoch 10/100\n",
      "891/891 [==============================] - 0s 171us/step - loss: 0.6646 - acc: 0.6184\n",
      "Epoch 11/100\n",
      "891/891 [==============================] - 0s 198us/step - loss: 0.6655 - acc: 0.6162\n",
      "Epoch 12/100\n",
      "891/891 [==============================] - 0s 178us/step - loss: 0.6638 - acc: 0.6184\n",
      "Epoch 13/100\n",
      "891/891 [==============================] - 0s 194us/step - loss: 0.6643 - acc: 0.6195\n",
      "Epoch 14/100\n",
      "891/891 [==============================] - 0s 182us/step - loss: 0.6610 - acc: 0.6207\n",
      "Epoch 15/100\n",
      "891/891 [==============================] - 0s 170us/step - loss: 0.6642 - acc: 0.6173\n",
      "Epoch 16/100\n",
      "891/891 [==============================] - 0s 162us/step - loss: 0.6635 - acc: 0.6195\n",
      "Epoch 17/100\n",
      "891/891 [==============================] - 0s 169us/step - loss: 0.6633 - acc: 0.6218\n",
      "Epoch 18/100\n",
      "891/891 [==============================] - 0s 157us/step - loss: 0.6588 - acc: 0.6218\n",
      "Epoch 19/100\n",
      "891/891 [==============================] - 0s 194us/step - loss: 0.6531 - acc: 0.6195\n",
      "Epoch 20/100\n",
      "891/891 [==============================] - 0s 190us/step - loss: 0.6490 - acc: 0.6240\n",
      "Epoch 21/100\n",
      "891/891 [==============================] - 0s 163us/step - loss: 0.6570 - acc: 0.6207\n",
      "Epoch 22/100\n",
      "891/891 [==============================] - 0s 141us/step - loss: 0.6291 - acc: 0.7003\n",
      "Epoch 23/100\n",
      "891/891 [==============================] - 0s 176us/step - loss: 0.6088 - acc: 0.6790\n",
      "Epoch 24/100\n",
      "891/891 [==============================] - 0s 253us/step - loss: 0.5845 - acc: 0.7239\n",
      "Epoch 25/100\n",
      "891/891 [==============================] - 0s 280us/step - loss: 0.5519 - acc: 0.7632\n",
      "Epoch 26/100\n",
      "891/891 [==============================] - 0s 197us/step - loss: 0.6621 - acc: 0.5769\n",
      "Epoch 27/100\n",
      "891/891 [==============================] - 0s 222us/step - loss: 0.6039 - acc: 0.6846\n",
      "Epoch 28/100\n",
      "891/891 [==============================] - 0s 224us/step - loss: 0.5730 - acc: 0.7329\n",
      "Epoch 29/100\n",
      "891/891 [==============================] - 0s 278us/step - loss: 0.5420 - acc: 0.7531\n",
      "Epoch 30/100\n",
      "891/891 [==============================] - 0s 299us/step - loss: 0.5258 - acc: 0.7621\n",
      "Epoch 31/100\n",
      "891/891 [==============================] - 0s 281us/step - loss: 0.5159 - acc: 0.7609\n",
      "Epoch 32/100\n",
      "891/891 [==============================] - 0s 206us/step - loss: 0.4929 - acc: 0.7890\n",
      "Epoch 33/100\n",
      "891/891 [==============================] - 0s 226us/step - loss: 0.5063 - acc: 0.7688\n",
      "Epoch 34/100\n",
      "891/891 [==============================] - 0s 176us/step - loss: 0.5193 - acc: 0.7643\n",
      "Epoch 35/100\n",
      "891/891 [==============================] - 0s 170us/step - loss: 0.5210 - acc: 0.7621\n",
      "Epoch 36/100\n",
      "891/891 [==============================] - 0s 314us/step - loss: 0.4698 - acc: 0.7924\n",
      "Epoch 37/100\n",
      "891/891 [==============================] - 0s 188us/step - loss: 0.4884 - acc: 0.7778\n",
      "Epoch 38/100\n",
      "891/891 [==============================] - 0s 189us/step - loss: 0.4779 - acc: 0.7778\n",
      "Epoch 39/100\n",
      "891/891 [==============================] - 0s 196us/step - loss: 0.4785 - acc: 0.7868\n",
      "Epoch 40/100\n",
      "891/891 [==============================] - 0s 191us/step - loss: 0.4815 - acc: 0.7845\n",
      "Epoch 41/100\n",
      "891/891 [==============================] - ETA: 0s - loss: 0.4751 - acc: 0.790 - 0s 186us/step - loss: 0.4733 - acc: 0.7912\n",
      "Epoch 42/100\n",
      "891/891 [==============================] - 0s 218us/step - loss: 0.4797 - acc: 0.7845\n",
      "Epoch 43/100\n",
      "891/891 [==============================] - 0s 252us/step - loss: 0.4783 - acc: 0.7834\n",
      "Epoch 44/100\n",
      "891/891 [==============================] - 0s 194us/step - loss: 0.4816 - acc: 0.7767\n",
      "Epoch 45/100\n",
      "891/891 [==============================] - 0s 164us/step - loss: 0.4931 - acc: 0.7811\n",
      "Epoch 46/100\n",
      "891/891 [==============================] - 0s 195us/step - loss: 0.4639 - acc: 0.7901\n",
      "Epoch 47/100\n",
      "891/891 [==============================] - 0s 226us/step - loss: 0.4778 - acc: 0.7823\n",
      "Epoch 48/100\n",
      "891/891 [==============================] - 0s 171us/step - loss: 0.4696 - acc: 0.7868\n",
      "Epoch 49/100\n",
      "891/891 [==============================] - 0s 182us/step - loss: 0.4798 - acc: 0.7845\n",
      "Epoch 50/100\n",
      "891/891 [==============================] - 0s 160us/step - loss: 0.4741 - acc: 0.7823\n",
      "Epoch 51/100\n",
      "891/891 [==============================] - 0s 220us/step - loss: 0.4663 - acc: 0.8013\n",
      "Epoch 52/100\n",
      "891/891 [==============================] - 0s 181us/step - loss: 0.4916 - acc: 0.7744\n",
      "Epoch 53/100\n",
      "891/891 [==============================] - 0s 193us/step - loss: 0.4699 - acc: 0.7845\n",
      "Epoch 54/100\n",
      "891/891 [==============================] - 0s 189us/step - loss: 0.4855 - acc: 0.7845\n",
      "Epoch 55/100\n",
      "891/891 [==============================] - 0s 172us/step - loss: 0.4816 - acc: 0.7755\n",
      "Epoch 56/100\n",
      "891/891 [==============================] - 0s 204us/step - loss: 0.4836 - acc: 0.7912\n",
      "Epoch 57/100\n",
      "891/891 [==============================] - 0s 150us/step - loss: 0.4786 - acc: 0.7688\n",
      "Epoch 58/100\n",
      "891/891 [==============================] - 0s 177us/step - loss: 0.4601 - acc: 0.7946\n",
      "Epoch 59/100\n",
      "891/891 [==============================] - 0s 182us/step - loss: 0.4973 - acc: 0.7823\n",
      "Epoch 60/100\n",
      "891/891 [==============================] - 0s 162us/step - loss: 0.4646 - acc: 0.7811\n",
      "Epoch 61/100\n",
      "891/891 [==============================] - 0s 194us/step - loss: 0.4598 - acc: 0.7868\n",
      "Epoch 62/100\n",
      "891/891 [==============================] - 0s 185us/step - loss: 0.4585 - acc: 0.8002\n",
      "Epoch 63/100\n",
      "891/891 [==============================] - 0s 171us/step - loss: 0.4637 - acc: 0.7946\n",
      "Epoch 64/100\n",
      "891/891 [==============================] - 0s 182us/step - loss: 0.4771 - acc: 0.7845\n",
      "Epoch 65/100\n",
      "891/891 [==============================] - 0s 168us/step - loss: 0.4723 - acc: 0.7879\n",
      "Epoch 66/100\n",
      "891/891 [==============================] - 0s 167us/step - loss: 0.4888 - acc: 0.7789\n",
      "Epoch 67/100\n",
      "891/891 [==============================] - 0s 183us/step - loss: 0.4702 - acc: 0.7890\n",
      "Epoch 68/100\n",
      "891/891 [==============================] - 0s 168us/step - loss: 0.4705 - acc: 0.7912\n",
      "Epoch 69/100\n",
      "891/891 [==============================] - 0s 271us/step - loss: 0.4629 - acc: 0.7868\n",
      "Epoch 70/100\n",
      "891/891 [==============================] - 0s 173us/step - loss: 0.4658 - acc: 0.7868\n",
      "Epoch 71/100\n",
      "891/891 [==============================] - 0s 170us/step - loss: 0.4723 - acc: 0.7834\n",
      "Epoch 72/100\n",
      "891/891 [==============================] - 0s 212us/step - loss: 0.5945 - acc: 0.6442\n",
      "Epoch 73/100\n",
      "891/891 [==============================] - 0s 217us/step - loss: 0.5416 - acc: 0.7576\n",
      "Epoch 74/100\n",
      "891/891 [==============================] - 0s 216us/step - loss: 0.5868 - acc: 0.7048\n",
      "Epoch 75/100\n",
      "891/891 [==============================] - 0s 229us/step - loss: 0.4874 - acc: 0.7688\n",
      "Epoch 76/100\n",
      "891/891 [==============================] - 0s 198us/step - loss: 0.5063 - acc: 0.7744\n",
      "Epoch 77/100\n",
      "891/891 [==============================] - 0s 176us/step - loss: 0.4858 - acc: 0.7733\n",
      "Epoch 78/100\n",
      "891/891 [==============================] - 0s 187us/step - loss: 0.4505 - acc: 0.8103\n",
      "Epoch 79/100\n",
      "891/891 [==============================] - 0s 198us/step - loss: 0.4876 - acc: 0.7778\n",
      "Epoch 80/100\n",
      "891/891 [==============================] - 0s 219us/step - loss: 0.4819 - acc: 0.7823\n",
      "Epoch 81/100\n",
      "891/891 [==============================] - 0s 189us/step - loss: 0.4593 - acc: 0.7912\n",
      "Epoch 82/100\n",
      "891/891 [==============================] - 0s 194us/step - loss: 0.4531 - acc: 0.8013\n",
      "Epoch 83/100\n"
     ]
    },
    {
     "name": "stdout",
     "output_type": "stream",
     "text": [
      "891/891 [==============================] - 0s 233us/step - loss: 0.4708 - acc: 0.8058\n",
      "Epoch 84/100\n",
      "891/891 [==============================] - 0s 160us/step - loss: 0.4694 - acc: 0.8013\n",
      "Epoch 85/100\n",
      "891/891 [==============================] - 0s 190us/step - loss: 0.4544 - acc: 0.8070\n",
      "Epoch 86/100\n",
      "891/891 [==============================] - 0s 228us/step - loss: 0.4540 - acc: 0.7946\n",
      "Epoch 87/100\n",
      "891/891 [==============================] - 0s 190us/step - loss: 0.4601 - acc: 0.7924\n",
      "Epoch 88/100\n",
      "891/891 [==============================] - 0s 171us/step - loss: 0.4573 - acc: 0.7901\n",
      "Epoch 89/100\n",
      "891/891 [==============================] - 0s 160us/step - loss: 0.4654 - acc: 0.7901\n",
      "Epoch 90/100\n",
      "891/891 [==============================] - 0s 155us/step - loss: 0.4632 - acc: 0.7924\n",
      "Epoch 91/100\n",
      "891/891 [==============================] - 0s 188us/step - loss: 0.4602 - acc: 0.7912\n",
      "Epoch 92/100\n",
      "891/891 [==============================] - 0s 189us/step - loss: 0.4498 - acc: 0.7980\n",
      "Epoch 93/100\n",
      "891/891 [==============================] - 0s 152us/step - loss: 0.4658 - acc: 0.7991\n",
      "Epoch 94/100\n",
      "891/891 [==============================] - 0s 197us/step - loss: 0.4540 - acc: 0.7890\n",
      "Epoch 95/100\n",
      "891/891 [==============================] - 0s 167us/step - loss: 0.4651 - acc: 0.7935\n",
      "Epoch 96/100\n",
      "891/891 [==============================] - 0s 182us/step - loss: 0.4616 - acc: 0.7789\n",
      "Epoch 97/100\n",
      "891/891 [==============================] - 0s 178us/step - loss: 0.4668 - acc: 0.7845\n",
      "Epoch 98/100\n",
      "891/891 [==============================] - 0s 159us/step - loss: 0.4660 - acc: 0.7935\n",
      "Epoch 99/100\n",
      "891/891 [==============================] - 0s 160us/step - loss: 0.4649 - acc: 0.7879\n",
      "Epoch 100/100\n",
      "891/891 [==============================] - 0s 148us/step - loss: 0.4726 - acc: 0.7856\n"
     ]
    },
    {
     "data": {
      "text/plain": [
       "<keras.callbacks.History at 0x21b2bf9ef28>"
      ]
     },
     "execution_count": 26,
     "metadata": {},
     "output_type": "execute_result"
    }
   ],
   "source": [
    "import keras\n",
    "from keras.models import Sequential\n",
    "from keras.layers import Dense\n",
    "\n",
    "# Initialising the ANN\n",
    "classifier = Sequential()\n",
    "\n",
    "# Adding the input layer and the first hidden layer\n",
    "classifier.add(Dense(output_dim = 4, init = 'uniform', activation = 'tanh', input_dim = 7))\n",
    "\n",
    "# Adding the second hidden layer\n",
    "classifier.add(Dense(output_dim = 4, init = 'uniform', activation = 'tanh'))\n",
    "\n",
    "# Adding the output layer\n",
    "classifier.add(Dense(output_dim = 1, init = 'uniform', activation = 'sigmoid'))\n",
    "\n",
    "# Compiling the ANN\n",
    "classifier.compile(optimizer = 'adam', loss = 'binary_crossentropy', metrics = ['accuracy'])\n",
    "\n",
    "# Fitting the ANN to the Training set\n",
    "classifier.fit(X, y, batch_size = 10, nb_epoch = 100)"
   ]
  },
  {
   "cell_type": "code",
   "execution_count": 27,
   "metadata": {},
   "outputs": [
    {
     "ename": "ValueError",
     "evalue": "Error when checking input: expected dense_19_input to have shape (7,) but got array with shape (5,)",
     "output_type": "error",
     "traceback": [
      "\u001b[1;31m---------------------------------------------------------------------------\u001b[0m",
      "\u001b[1;31mValueError\u001b[0m                                Traceback (most recent call last)",
      "\u001b[1;32m<ipython-input-27-d56bc030d101>\u001b[0m in \u001b[0;36m<module>\u001b[1;34m()\u001b[0m\n\u001b[1;32m----> 1\u001b[1;33m \u001b[0my_pred_cc\u001b[0m \u001b[1;33m=\u001b[0m \u001b[0mclassifier\u001b[0m\u001b[1;33m.\u001b[0m\u001b[0mpredict\u001b[0m\u001b[1;33m(\u001b[0m\u001b[0mX_test\u001b[0m\u001b[1;33m)\u001b[0m\u001b[1;33m\u001b[0m\u001b[0m\n\u001b[0m\u001b[0;32m      2\u001b[0m \u001b[0mModelScore\u001b[0m\u001b[1;33m(\u001b[0m\u001b[0my_test\u001b[0m\u001b[1;33m,\u001b[0m \u001b[0my_pred_cc\u001b[0m\u001b[1;33m)\u001b[0m\u001b[1;33m\u001b[0m\u001b[0m\n",
      "\u001b[1;32m~\\Anaconda3\\lib\\site-packages\\keras\\engine\\training.py\u001b[0m in \u001b[0;36mpredict\u001b[1;34m(self, x, batch_size, verbose, steps)\u001b[0m\n\u001b[0;32m   1145\u001b[0m                              'argument.')\n\u001b[0;32m   1146\u001b[0m         \u001b[1;31m# Validate user data.\u001b[0m\u001b[1;33m\u001b[0m\u001b[1;33m\u001b[0m\u001b[0m\n\u001b[1;32m-> 1147\u001b[1;33m         \u001b[0mx\u001b[0m\u001b[1;33m,\u001b[0m \u001b[0m_\u001b[0m\u001b[1;33m,\u001b[0m \u001b[0m_\u001b[0m \u001b[1;33m=\u001b[0m \u001b[0mself\u001b[0m\u001b[1;33m.\u001b[0m\u001b[0m_standardize_user_data\u001b[0m\u001b[1;33m(\u001b[0m\u001b[0mx\u001b[0m\u001b[1;33m)\u001b[0m\u001b[1;33m\u001b[0m\u001b[0m\n\u001b[0m\u001b[0;32m   1148\u001b[0m         \u001b[1;32mif\u001b[0m \u001b[0mself\u001b[0m\u001b[1;33m.\u001b[0m\u001b[0mstateful\u001b[0m\u001b[1;33m:\u001b[0m\u001b[1;33m\u001b[0m\u001b[0m\n\u001b[0;32m   1149\u001b[0m             \u001b[1;32mif\u001b[0m \u001b[0mx\u001b[0m\u001b[1;33m[\u001b[0m\u001b[1;36m0\u001b[0m\u001b[1;33m]\u001b[0m\u001b[1;33m.\u001b[0m\u001b[0mshape\u001b[0m\u001b[1;33m[\u001b[0m\u001b[1;36m0\u001b[0m\u001b[1;33m]\u001b[0m \u001b[1;33m>\u001b[0m \u001b[0mbatch_size\u001b[0m \u001b[1;32mand\u001b[0m \u001b[0mx\u001b[0m\u001b[1;33m[\u001b[0m\u001b[1;36m0\u001b[0m\u001b[1;33m]\u001b[0m\u001b[1;33m.\u001b[0m\u001b[0mshape\u001b[0m\u001b[1;33m[\u001b[0m\u001b[1;36m0\u001b[0m\u001b[1;33m]\u001b[0m \u001b[1;33m%\u001b[0m \u001b[0mbatch_size\u001b[0m \u001b[1;33m!=\u001b[0m \u001b[1;36m0\u001b[0m\u001b[1;33m:\u001b[0m\u001b[1;33m\u001b[0m\u001b[0m\n",
      "\u001b[1;32m~\\Anaconda3\\lib\\site-packages\\keras\\engine\\training.py\u001b[0m in \u001b[0;36m_standardize_user_data\u001b[1;34m(self, x, y, sample_weight, class_weight, check_array_lengths, batch_size)\u001b[0m\n\u001b[0;32m    747\u001b[0m             \u001b[0mfeed_input_shapes\u001b[0m\u001b[1;33m,\u001b[0m\u001b[1;33m\u001b[0m\u001b[0m\n\u001b[0;32m    748\u001b[0m             \u001b[0mcheck_batch_axis\u001b[0m\u001b[1;33m=\u001b[0m\u001b[1;32mFalse\u001b[0m\u001b[1;33m,\u001b[0m  \u001b[1;31m# Don't enforce the batch size.\u001b[0m\u001b[1;33m\u001b[0m\u001b[0m\n\u001b[1;32m--> 749\u001b[1;33m             exception_prefix='input')\n\u001b[0m\u001b[0;32m    750\u001b[0m \u001b[1;33m\u001b[0m\u001b[0m\n\u001b[0;32m    751\u001b[0m         \u001b[1;32mif\u001b[0m \u001b[0my\u001b[0m \u001b[1;32mis\u001b[0m \u001b[1;32mnot\u001b[0m \u001b[1;32mNone\u001b[0m\u001b[1;33m:\u001b[0m\u001b[1;33m\u001b[0m\u001b[0m\n",
      "\u001b[1;32m~\\Anaconda3\\lib\\site-packages\\keras\\engine\\training_utils.py\u001b[0m in \u001b[0;36mstandardize_input_data\u001b[1;34m(data, names, shapes, check_batch_axis, exception_prefix)\u001b[0m\n\u001b[0;32m    135\u001b[0m                             \u001b[1;34m': expected '\u001b[0m \u001b[1;33m+\u001b[0m \u001b[0mnames\u001b[0m\u001b[1;33m[\u001b[0m\u001b[0mi\u001b[0m\u001b[1;33m]\u001b[0m \u001b[1;33m+\u001b[0m \u001b[1;34m' to have shape '\u001b[0m \u001b[1;33m+\u001b[0m\u001b[1;33m\u001b[0m\u001b[0m\n\u001b[0;32m    136\u001b[0m                             \u001b[0mstr\u001b[0m\u001b[1;33m(\u001b[0m\u001b[0mshape\u001b[0m\u001b[1;33m)\u001b[0m \u001b[1;33m+\u001b[0m \u001b[1;34m' but got array with shape '\u001b[0m \u001b[1;33m+\u001b[0m\u001b[1;33m\u001b[0m\u001b[0m\n\u001b[1;32m--> 137\u001b[1;33m                             str(data_shape))\n\u001b[0m\u001b[0;32m    138\u001b[0m     \u001b[1;32mreturn\u001b[0m \u001b[0mdata\u001b[0m\u001b[1;33m\u001b[0m\u001b[0m\n\u001b[0;32m    139\u001b[0m \u001b[1;33m\u001b[0m\u001b[0m\n",
      "\u001b[1;31mValueError\u001b[0m: Error when checking input: expected dense_19_input to have shape (7,) but got array with shape (5,)"
     ]
    }
   ],
   "source": [
    "y_pred_cc = classifier.predict(X_test)\n",
    "ModelScore(y_test, y_pred_cc)"
   ]
  },
  {
   "cell_type": "code",
   "execution_count": null,
   "metadata": {},
   "outputs": [],
   "source": []
  }
 ],
 "metadata": {
  "kernelspec": {
   "display_name": "Python 3",
   "language": "python",
   "name": "python3"
  },
  "language_info": {
   "codemirror_mode": {
    "name": "ipython",
    "version": 3
   },
   "file_extension": ".py",
   "mimetype": "text/x-python",
   "name": "python",
   "nbconvert_exporter": "python",
   "pygments_lexer": "ipython3",
   "version": "3.6.5"
  }
 },
 "nbformat": 4,
 "nbformat_minor": 1
}
